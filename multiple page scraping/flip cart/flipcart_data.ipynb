{
 "cells": [
  {
   "cell_type": "code",
   "execution_count": 42,
   "metadata": {},
   "outputs": [],
   "source": [
    "import requests\n",
    "from bs4 import BeautifulSoup\n",
    "import numpy as np \n",
    "import pandas as pd"
   ]
  },
  {
   "cell_type": "code",
   "execution_count": 50,
   "metadata": {},
   "outputs": [],
   "source": [
    "names =[]\n",
    "prices = []\n",
    "desc=[]\n",
    "reviews = []"
   ]
  },
  {
   "cell_type": "code",
   "execution_count": 51,
   "metadata": {},
   "outputs": [
    {
     "name": "stdout",
     "output_type": "stream",
     "text": [
      "24\n",
      "24\n",
      "24\n",
      "24\n",
      "48\n",
      "48\n",
      "48\n",
      "48\n",
      "72\n",
      "72\n",
      "72\n",
      "72\n",
      "96\n",
      "96\n",
      "96\n",
      "96\n",
      "120\n",
      "120\n",
      "120\n",
      "120\n",
      "144\n",
      "144\n",
      "144\n",
      "144\n"
     ]
    }
   ],
   "source": [
    "for i in range(1,7):\n",
    "    url = \"https://www.flipkart.com/search?q=mobile+under+10000&sid=tyy%2C4io&as=on&as-show=on&otracker=AS_QueryStore_OrganicAutoSuggest_1_13_na_na_na&otracker1=AS_QueryStore_OrganicAutoSuggest_1_13_na_na_na&as-pos=1&as-type=HISTORY&suggestionId=mobile+under+10000%7CMobiles&requestId=d0ee4817-5ce6-46ab-854f-69991bc5b6cc&page=\"+str(i)\n",
    "    r= requests.get(url)\n",
    "    soup = BeautifulSoup(r.text,\"lxml\")\n",
    "    box = soup.find(\"div\",class_ = \"DOjaWF gdgoEp\")\n",
    "    np=box.find(\"a\",class_ = \"_9QVEpD\").get(\"href\")\n",
    "    cnp = \"https://www.flipkart.com\"+np\n",
    "    Names =box.find_all(\"div\",class_ = \"KzDlHZ\")\n",
    "    for i in Names:\n",
    "        name = i.text\n",
    "        names.append(name)\n",
    "    Prices = box.find_all(\"div\",class_ = \"Nx9bqj _4b5DiR\")\n",
    "    for i in Prices:\n",
    "        price = i.text\n",
    "        prices.append(price)\n",
    "    Desc =  box.find_all(\"ul\",class_ = \"G4BRas\")\n",
    "    for i in Desc :\n",
    "        des = i.text\n",
    "        desc.append(des)\n",
    "    Reviews =  box.find_all(\"div\",class_ = \"XQDdHH\")\n",
    "    for i in Reviews :\n",
    "        review = i.text\n",
    "        reviews.append(review)\n",
    "    print(len(names))\n",
    "    print(len(prices))\n",
    "    print(len(desc))\n",
    "    print(len(reviews))\n",
    " \n",
    "\n",
    "    \n",
    "    \n",
    "    \n",
    "    "
   ]
  },
  {
   "cell_type": "code",
   "execution_count": 52,
   "metadata": {},
   "outputs": [],
   "source": [
    "df = pd.DataFrame({\n",
    "    'Names': names,\n",
    "    'Prices': prices,\n",
    "    'Description': desc,\n",
    "    'Reviews': reviews,\n",
    " \n",
    "})"
   ]
  },
  {
   "cell_type": "code",
   "execution_count": 55,
   "metadata": {},
   "outputs": [],
   "source": [
    "df.to_csv('flipcart_phone_data.csv')"
   ]
  },
  {
   "cell_type": "code",
   "execution_count": null,
   "metadata": {},
   "outputs": [],
   "source": []
  }
 ],
 "metadata": {
  "kernelspec": {
   "display_name": "base",
   "language": "python",
   "name": "python3"
  },
  "language_info": {
   "codemirror_mode": {
    "name": "ipython",
    "version": 3
   },
   "file_extension": ".py",
   "mimetype": "text/x-python",
   "name": "python",
   "nbconvert_exporter": "python",
   "pygments_lexer": "ipython3",
   "version": "3.11.3"
  }
 },
 "nbformat": 4,
 "nbformat_minor": 2
}
